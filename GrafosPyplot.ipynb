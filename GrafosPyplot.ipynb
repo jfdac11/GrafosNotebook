{
 "cells": [
  {
   "cell_type": "markdown",
   "metadata": {},
   "source": [
    "# Importando bibliotecas"
   ]
  },
  {
   "cell_type": "markdown",
   "metadata": {},
   "source": [
    "Matplotlib é uma biblioteca que é utilizada para a exibição de gráficos\n"
   ]
  },
  {
   "cell_type": "markdown",
   "metadata": {},
   "source": [
    "Networkx é a biblioteca utilizada para a criação de grafos "
   ]
  },
  {
   "cell_type": "code",
   "execution_count": 87,
   "metadata": {},
   "outputs": [],
   "source": [
    "import matplotlib.pyplot as plt \n",
    "import networkx as nx\n",
    "from networkx.drawing.nx_agraph import graphviz_layout\n",
    "import numpy as np"
   ]
  },
  {
   "cell_type": "markdown",
   "metadata": {},
   "source": [
    "# Criando um grafo\n",
    "Digite 'digraph' para criar um digrafo ou 'graph' para criar um grafo não dirigido"
   ]
  },
  {
   "cell_type": "code",
   "execution_count": 230,
   "metadata": {},
   "outputs": [
    {
     "name": "stdout",
     "output_type": "stream",
     "text": [
      "digraph\n"
     ]
    }
   ],
   "source": [
    "# variável que controla o tipo do grafo (dirigido ou não dirigido)\n",
    "type = str(input())\n",
    "\n",
    "# condição para a criação do grafo\n",
    "if type.lower() == 'graph':\n",
    "    \n",
    "    # setup inicial de um grafo não dirigido pelo networkX\n",
    "    G = nx.Graph()\n",
    "elif type.lower() == 'digraph':\n",
    "    \n",
    "    # setup inicial de um grafo não dirigido pelo networkX\n",
    "    G = nx.DiGraph()\n",
    "    \n",
    "else:\n",
    "    \n",
    "    # opção invalida\n",
    "    print(\"Nenhuma opção foi escolhida\")"
   ]
  },
  {
   "cell_type": "markdown",
   "metadata": {},
   "source": [
    "# Digite as arestas do grafo\n",
    "## Automaticamente serão adicionados os vértices inseridos\n",
    "OBS: Digite 'stop' para parar a inserção de dados"
   ]
  },
  {
   "cell_type": "code",
   "execution_count": 231,
   "metadata": {},
   "outputs": [
    {
     "name": "stdout",
     "output_type": "stream",
     "text": [
      "Aresta:0\n",
      "Vértice Source\n",
      "1\n",
      "Vértice Target\n",
      "2\n",
      "Peso da aresta\n",
      "9.8\n",
      "Aresta:1\n",
      "Vértice Source\n",
      "3\n",
      "Vértice Target\n",
      "4\n",
      "Peso da aresta\n",
      "1\n",
      "Aresta:2\n",
      "Vértice Source\n",
      "stop\n"
     ]
    }
   ],
   "source": [
    "# loop para a criação de grafos pela entrada com teclado\n",
    "while True:\n",
    "    \n",
    "    # Aresta com o seu respectivo número\n",
    "    print(\"Aresta:\" + str(len(G.edges())))\n",
    "    \n",
    "    # Vértice de saída da aresta\n",
    "    print(\"Vértice Source\")\n",
    "    \n",
    "    # Label do nó de saída da aresta\n",
    "    node1 = input()\n",
    "    \n",
    "    # Caso o usuário informe \"stop\" o programa para de receber inputs\n",
    "    if(node1 == 'stop'):\n",
    "        break\n",
    "\n",
    "    # Vértice de entrada da aresta\n",
    "    print(\"Vértice Target\")\n",
    "    \n",
    "    # Label do nó de entrada da aresta\n",
    "    node2 = input()\n",
    "    \n",
    "    # Caso o usuário informe \"stop\" o programa para de receber inputs\n",
    "    if(node2 == 'stop'):\n",
    "        break\n",
    "        \n",
    "    # Peso da aresta informada\n",
    "    print(\"Peso da aresta\")\n",
    "    wt = float(input())\n",
    "    \n",
    "    \n",
    "    # Adicionando a aresta ao Grafo\n",
    "    G.add_edge(node1, node2, weight=wt)\n"
   ]
  },
  {
   "cell_type": "code",
   "execution_count": 232,
   "metadata": {},
   "outputs": [
    {
     "name": "stdout",
     "output_type": "stream",
     "text": [
      "[('1', '2'), ('3', '4')] ['1', '2', '3', '4']\n"
     ]
    }
   ],
   "source": [
    "print(G.edges(), G.nodes())"
   ]
  },
  {
   "cell_type": "markdown",
   "metadata": {},
   "source": [
    "# Exibição do Grafo\n",
    "## Escolha o tipo do layout ('Aleatorio', 'Circular')"
   ]
  },
  {
   "cell_type": "code",
   "execution_count": 233,
   "metadata": {},
   "outputs": [
    {
     "name": "stdout",
     "output_type": "stream",
     "text": [
      "\n"
     ]
    }
   ],
   "source": [
    "layout_type = str(input())\n",
    "layout_type.lower()\n",
    "\n",
    "# Variável que armazena a posição dos vértices baseado no layout\n",
    "if layout_type == 'aleatorio':\n",
    "    pos = nx.spring_layout(G, k=2)\n",
    "elif layout_type == 'circular':\n",
    "    pos = nx.circular_layout(G)"
   ]
  },
  {
   "cell_type": "code",
   "execution_count": 234,
   "metadata": {},
   "outputs": [
    {
     "data": {
      "image/png": "[encoded data removed]",
      "text/plain": [
       "<Figure size 1152x504 with 1 Axes>"
      ]
     },
     "metadata": {},
     "output_type": "display_data"
    }
   ],
   "source": [
    "# Utilizado para definir o tamanho da exibição\n",
    "fig = plt.figure(figsize=(16, 7))\n",
    "\n",
    "\n",
    "# Variável que armazena o peso das arestas\n",
    "labels = nx.get_edge_attributes(G,'weight')\n",
    "\n",
    "# Função que desenha os nós Grafo\n",
    "nx.draw_networkx_nodes(\n",
    "    G, \n",
    "    pos, \n",
    "    node_color='r'\n",
    ")\n",
    "\n",
    "# Função que exibe as labels dos nós do grafo\n",
    "nx.draw_networkx_labels(\n",
    "    G, \n",
    "    pos\n",
    ")\n",
    "\n",
    "# Função que exibe os pesos das arestas do grafo\n",
    "nx.draw_networkx_edge_labels(\n",
    "    G, \n",
    "    pos, \n",
    "    font_size=10, \n",
    "    edge_labels=labels\n",
    ")\n",
    "\n",
    "# Função que desenha as arestas do grafo\n",
    "nx.draw_networkx_edges(\n",
    "    G, \n",
    "    pos, \n",
    "    width=1,\n",
    "    length=7\n",
    ")\n",
    "\n",
    "plt.show()"
   ]
  },
  {
   "cell_type": "markdown",
   "metadata": {},
   "source": [
    "# Exibição do número de Vértices "
   ]
  },
  {
   "cell_type": "code",
   "execution_count": 235,
   "metadata": {},
   "outputs": [
    {
     "name": "stdout",
     "output_type": "stream",
     "text": [
      "Número de vertices:  4\n"
     ]
    }
   ],
   "source": [
    "# Função que retorna o número de vértices do Grafo\n",
    "numV = len(list(G.nodes()))\n",
    "print('Número de vertices: ',numV)"
   ]
  },
  {
   "cell_type": "markdown",
   "metadata": {},
   "source": [
    "# Exibição do número de Arestas"
   ]
  },
  {
   "cell_type": "code",
   "execution_count": 236,
   "metadata": {},
   "outputs": [
    {
     "name": "stdout",
     "output_type": "stream",
     "text": [
      "Número de arestas:  2\n"
     ]
    }
   ],
   "source": [
    "# Função que retorna o número de arestas do Grafo\n",
    "numA = len(list(G.edges()))\n",
    "print('Número de arestas: ',numA)"
   ]
  },
  {
   "cell_type": "markdown",
   "metadata": {},
   "source": [
    "# Exibição do número de Componentes"
   ]
  },
  {
   "cell_type": "code",
   "execution_count": 237,
   "metadata": {},
   "outputs": [
    {
     "name": "stdout",
     "output_type": "stream",
     "text": [
      "Número de componentes:  2\n"
     ]
    }
   ],
   "source": [
    "# Função que retorna o número de componentes do Grafo\n",
    "# G.to_undirected() transforma grafos para não dirigidos forçadamente\n",
    "numC = nx.number_connected_components(G.to_undirected())\n",
    "print('Número de componentes: ',numC)"
   ]
  },
  {
   "cell_type": "markdown",
   "metadata": {},
   "source": [
    "# Geração da Matriz de adjacência/custos (Networkx):"
   ]
  },
  {
   "cell_type": "code",
   "execution_count": 238,
   "metadata": {},
   "outputs": [],
   "source": [
    "# Função que retorna a matriz de adjacência do Grafo\n",
    "matrix = nx.adjacency_matrix(G)"
   ]
  },
  {
   "cell_type": "code",
   "execution_count": 240,
   "metadata": {
    "scrolled": true
   },
   "outputs": [
    {
     "name": "stdout",
     "output_type": "stream",
     "text": [
      "[[0.  9.8 0.  0. ]\n",
      " [0.  0.  0.  0. ]\n",
      " [0.  0.  0.  1. ]\n",
      " [0.  0.  0.  0. ]]\n"
     ]
    }
   ],
   "source": [
    "# Representação da matriz de adjacência\n",
    "print(matrix.todense())"
   ]
  },
  {
   "cell_type": "markdown",
   "metadata": {},
   "source": [
    "# Geração da Matriz de adjacência (Fonte Própria):"
   ]
  },
  {
   "cell_type": "markdown",
   "metadata": {},
   "source": [
    "### Para Digrafos:"
   ]
  },
  {
   "cell_type": "code",
   "execution_count": 241,
   "metadata": {},
   "outputs": [],
   "source": [
    "def make_adjmatrix_digraph(G):\n",
    "    nodelist = G.nodes()\n",
    "    edgelist = G.edges()\n",
    "    \n",
    "    n = len(nodelist)\n",
    "    adjmatrix = np.zeros((n, n))\n",
    "    \n",
    "    for edge in edgelist:\n",
    "        i = int(edge[0]) -1\n",
    "        j = int(edge[1]) -1\n",
    "        adjmatrix[i][j] = 1\n",
    "        \n",
    "    \n",
    "    \n",
    "    return adjmatrix"
   ]
  },
  {
   "cell_type": "markdown",
   "metadata": {},
   "source": [
    "### Para Grafos simples:"
   ]
  },
  {
   "cell_type": "code",
   "execution_count": 242,
   "metadata": {},
   "outputs": [],
   "source": [
    "def make_adjmatrix_graph(G):\n",
    "    nodelist = G.nodes()\n",
    "    edgelist = G.edges()\n",
    "    \n",
    "    n = len(nodelist)\n",
    "    adjmatrix = np.zeros((n, n))\n",
    "    \n",
    "    for edge in edgelist:\n",
    "        i = int(edge[0]) -1\n",
    "        j = int(edge[1]) -1\n",
    "        adjmatrix[i][j] = 1\n",
    "        adjmatrix[j][i] = 1\n",
    "    \n",
    "    \n",
    "    return adjmatrix\n",
    "    "
   ]
  },
  {
   "cell_type": "markdown",
   "metadata": {},
   "source": [
    "### Função geral:"
   ]
  },
  {
   "cell_type": "code",
   "execution_count": 243,
   "metadata": {},
   "outputs": [],
   "source": [
    "def make_adjmatrix(G):\n",
    "    if nx.is_directed(G):\n",
    "        return make_adjmatrix_digraph(G)\n",
    "    else:\n",
    "        return make_adjmatrix_graph(G)"
   ]
  },
  {
   "cell_type": "markdown",
   "metadata": {},
   "source": [
    "#### Resultado:"
   ]
  },
  {
   "cell_type": "code",
   "execution_count": 244,
   "metadata": {},
   "outputs": [
    {
     "data": {
      "text/plain": [
       "array([[0., 1., 0., 0.],\n",
       "       [0., 0., 0., 0.],\n",
       "       [0., 0., 0., 1.],\n",
       "       [0., 0., 0., 0.]])"
      ]
     },
     "execution_count": 244,
     "metadata": {},
     "output_type": "execute_result"
    }
   ],
   "source": [
    "adjmatrix = make_adjmatrix(G)\n",
    "adjmatrix"
   ]
  },
  {
   "cell_type": "markdown",
   "metadata": {},
   "source": [
    "# Geração da Matriz de Custos (Fonte Própria):"
   ]
  },
  {
   "cell_type": "markdown",
   "metadata": {},
   "source": [
    "### Para Digrafos:"
   ]
  },
  {
   "cell_type": "code",
   "execution_count": 245,
   "metadata": {},
   "outputs": [],
   "source": [
    "def make_costmatrix_digraph(G):\n",
    "    nodelist = G.nodes()\n",
    "    edgelist = G.edges()\n",
    "    \n",
    "    n = len(nodelist)\n",
    "    costmatrix = np.zeros((n, n))\n",
    "    \n",
    "    for edge in edgelist:\n",
    "        i = int(edge[0]) -1 \n",
    "        j = int(edge[1]) -1\n",
    "        costmatrix[i][j] = G[edge[0]][edge[1]][\"weight\"]\n",
    "    \n",
    "    return costmatrix"
   ]
  },
  {
   "cell_type": "markdown",
   "metadata": {},
   "source": [
    "### Para Grafos simples:"
   ]
  },
  {
   "cell_type": "code",
   "execution_count": 246,
   "metadata": {},
   "outputs": [],
   "source": [
    "def make_costmatrix_graph(G):\n",
    "    nodelist = G.nodes()\n",
    "    edgelist = G.edges()\n",
    "    \n",
    "    n = len(nodelist)\n",
    "    costmatrix = np.zeros((n, n))\n",
    "    \n",
    "    for edge in edgelist:\n",
    "        i = int(edge[0]) -1 \n",
    "        j = int(edge[1]) -1\n",
    "        costmatrix[i][j] = G[edge[0]][edge[1]][\"weight\"]\n",
    "        costmatrix[j][i] = G[edge[1]][edge[0]][\"weight\"]\n",
    "    \n",
    "    return costmatrix"
   ]
  },
  {
   "cell_type": "markdown",
   "metadata": {},
   "source": [
    "### Função geral:"
   ]
  },
  {
   "cell_type": "code",
   "execution_count": 247,
   "metadata": {},
   "outputs": [],
   "source": [
    "def make_costmatrix(G):\n",
    "    if nx.is_directed(G):\n",
    "        return make_costmatrix_digraph(G)\n",
    "    else:\n",
    "        return make_costmatrix_graph(G)"
   ]
  },
  {
   "cell_type": "code",
   "execution_count": 248,
   "metadata": {},
   "outputs": [
    {
     "data": {
      "text/plain": [
       "array([[0. , 9.8, 0. , 0. ],\n",
       "       [0. , 0. , 0. , 0. ],\n",
       "       [0. , 0. , 0. , 1. ],\n",
       "       [0. , 0. , 0. , 0. ]])"
      ]
     },
     "execution_count": 248,
     "metadata": {},
     "output_type": "execute_result"
    }
   ],
   "source": [
    "costmatrix = make_costmatrix(G)\n",
    "costmatrix"
   ]
  },
  {
   "cell_type": "markdown",
   "metadata": {},
   "source": [
    "# Pajek\n",
    "### Código para geração de arquivo apartir do grafo acima (pode ser lido pelo pajek) "
   ]
  },
  {
   "cell_type": "code",
   "execution_count": 249,
   "metadata": {},
   "outputs": [],
   "source": [
    "# Função para escrever o Grafo em Pajek .net informando o grafo e o nome do arquivo em que deseja gravar o grafo\n",
    "nx.write_pajek(G, \"Grafo.net\")"
   ]
  },
  {
   "cell_type": "markdown",
   "metadata": {},
   "source": [
    "# Caminho mínimo"
   ]
  },
  {
   "cell_type": "code",
   "execution_count": 250,
   "metadata": {
    "scrolled": true
   },
   "outputs": [
    {
     "name": "stdout",
     "output_type": "stream",
     "text": [
      "Insira o nó de onde deseja começar: \n",
      "\n",
      "Insira o nó que deseja finalizar: \n",
      "\n"
     ]
    }
   ],
   "source": [
    "# Input para informar o nó pai da busca\n",
    "print('Insira o nó de onde deseja começar: ')\n",
    "StartNode = input()\n",
    "\n",
    "# Input para informar o nó de chegada da busca\n",
    "print('Insira o nó que deseja finalizar: ')\n",
    "FinalNode = input()\n"
   ]
  },
  {
   "cell_type": "code",
   "execution_count": 251,
   "metadata": {},
   "outputs": [
    {
     "data": {
      "text/plain": [
       "OutEdgeView([('1', '2'), ('3', '4')])"
      ]
     },
     "execution_count": 251,
     "metadata": {},
     "output_type": "execute_result"
    }
   ],
   "source": [
    "G.edges()"
   ]
  },
  {
   "cell_type": "code",
   "execution_count": 252,
   "metadata": {},
   "outputs": [
    {
     "ename": "NodeNotFound",
     "evalue": "Either source  or target  is not in G",
     "output_type": "error",
     "traceback": [
      "\u001b[1;31m---------------------------------------------------------------------------\u001b[0m",
      "\u001b[1;31mNodeNotFound\u001b[0m                              Traceback (most recent call last)",
      "\u001b[1;32m<ipython-input-252-1fce00be0114>\u001b[0m in \u001b[0;36m<module>\u001b[1;34m\u001b[0m\n\u001b[0;32m      1\u001b[0m \u001b[1;31m# Função que retorna uma lista de vértices do caminho\u001b[0m\u001b[1;33m\u001b[0m\u001b[1;33m\u001b[0m\u001b[1;33m\u001b[0m\u001b[0m\n\u001b[1;32m----> 2\u001b[1;33m \u001b[0msp\u001b[0m \u001b[1;33m=\u001b[0m \u001b[0mnx\u001b[0m\u001b[1;33m.\u001b[0m\u001b[0mshortest_path\u001b[0m\u001b[1;33m(\u001b[0m\u001b[0mG\u001b[0m\u001b[1;33m,\u001b[0m\u001b[0msource\u001b[0m \u001b[1;33m=\u001b[0m \u001b[0mStartNode\u001b[0m\u001b[1;33m,\u001b[0m\u001b[0mtarget\u001b[0m \u001b[1;33m=\u001b[0m \u001b[0mFinalNode\u001b[0m\u001b[1;33m)\u001b[0m\u001b[1;33m\u001b[0m\u001b[1;33m\u001b[0m\u001b[0m\n\u001b[0m\u001b[0;32m      3\u001b[0m \u001b[1;33m\u001b[0m\u001b[0m\n\u001b[0;32m      4\u001b[0m \u001b[1;31m# Exibição do caminho mínimo\u001b[0m\u001b[1;33m\u001b[0m\u001b[1;33m\u001b[0m\u001b[1;33m\u001b[0m\u001b[0m\n\u001b[0;32m      5\u001b[0m \u001b[0mprint\u001b[0m\u001b[1;33m(\u001b[0m\u001b[0msp\u001b[0m\u001b[1;33m)\u001b[0m\u001b[1;33m\u001b[0m\u001b[1;33m\u001b[0m\u001b[0m\n",
      "\u001b[1;32m~\\anaconda3\\lib\\site-packages\\networkx\\algorithms\\shortest_paths\\generic.py\u001b[0m in \u001b[0;36mshortest_path\u001b[1;34m(G, source, target, weight, method)\u001b[0m\n\u001b[0;32m    168\u001b[0m             \u001b[1;31m# Find shortest source-target path.\u001b[0m\u001b[1;33m\u001b[0m\u001b[1;33m\u001b[0m\u001b[1;33m\u001b[0m\u001b[0m\n\u001b[0;32m    169\u001b[0m             \u001b[1;32mif\u001b[0m \u001b[0mmethod\u001b[0m \u001b[1;33m==\u001b[0m \u001b[1;34m'unweighted'\u001b[0m\u001b[1;33m:\u001b[0m\u001b[1;33m\u001b[0m\u001b[1;33m\u001b[0m\u001b[0m\n\u001b[1;32m--> 170\u001b[1;33m                 \u001b[0mpaths\u001b[0m \u001b[1;33m=\u001b[0m \u001b[0mnx\u001b[0m\u001b[1;33m.\u001b[0m\u001b[0mbidirectional_shortest_path\u001b[0m\u001b[1;33m(\u001b[0m\u001b[0mG\u001b[0m\u001b[1;33m,\u001b[0m \u001b[0msource\u001b[0m\u001b[1;33m,\u001b[0m \u001b[0mtarget\u001b[0m\u001b[1;33m)\u001b[0m\u001b[1;33m\u001b[0m\u001b[1;33m\u001b[0m\u001b[0m\n\u001b[0m\u001b[0;32m    171\u001b[0m             \u001b[1;32melif\u001b[0m \u001b[0mmethod\u001b[0m \u001b[1;33m==\u001b[0m \u001b[1;34m'dijkstra'\u001b[0m\u001b[1;33m:\u001b[0m\u001b[1;33m\u001b[0m\u001b[1;33m\u001b[0m\u001b[0m\n\u001b[0;32m    172\u001b[0m                 \u001b[0mpaths\u001b[0m \u001b[1;33m=\u001b[0m \u001b[0mnx\u001b[0m\u001b[1;33m.\u001b[0m\u001b[0mdijkstra_path\u001b[0m\u001b[1;33m(\u001b[0m\u001b[0mG\u001b[0m\u001b[1;33m,\u001b[0m \u001b[0msource\u001b[0m\u001b[1;33m,\u001b[0m \u001b[0mtarget\u001b[0m\u001b[1;33m,\u001b[0m \u001b[0mweight\u001b[0m\u001b[1;33m)\u001b[0m\u001b[1;33m\u001b[0m\u001b[1;33m\u001b[0m\u001b[0m\n",
      "\u001b[1;32m~\\anaconda3\\lib\\site-packages\\networkx\\algorithms\\shortest_paths\\unweighted.py\u001b[0m in \u001b[0;36mbidirectional_shortest_path\u001b[1;34m(G, source, target)\u001b[0m\n\u001b[0;32m    221\u001b[0m     \u001b[1;32mif\u001b[0m \u001b[0msource\u001b[0m \u001b[1;32mnot\u001b[0m \u001b[1;32min\u001b[0m \u001b[0mG\u001b[0m \u001b[1;32mor\u001b[0m \u001b[0mtarget\u001b[0m \u001b[1;32mnot\u001b[0m \u001b[1;32min\u001b[0m \u001b[0mG\u001b[0m\u001b[1;33m:\u001b[0m\u001b[1;33m\u001b[0m\u001b[1;33m\u001b[0m\u001b[0m\n\u001b[0;32m    222\u001b[0m         \u001b[0mmsg\u001b[0m \u001b[1;33m=\u001b[0m \u001b[1;34m'Either source {} or target {} is not in G'\u001b[0m\u001b[1;33m\u001b[0m\u001b[1;33m\u001b[0m\u001b[0m\n\u001b[1;32m--> 223\u001b[1;33m         \u001b[1;32mraise\u001b[0m \u001b[0mnx\u001b[0m\u001b[1;33m.\u001b[0m\u001b[0mNodeNotFound\u001b[0m\u001b[1;33m(\u001b[0m\u001b[0mmsg\u001b[0m\u001b[1;33m.\u001b[0m\u001b[0mformat\u001b[0m\u001b[1;33m(\u001b[0m\u001b[0msource\u001b[0m\u001b[1;33m,\u001b[0m \u001b[0mtarget\u001b[0m\u001b[1;33m)\u001b[0m\u001b[1;33m)\u001b[0m\u001b[1;33m\u001b[0m\u001b[1;33m\u001b[0m\u001b[0m\n\u001b[0m\u001b[0;32m    224\u001b[0m \u001b[1;33m\u001b[0m\u001b[0m\n\u001b[0;32m    225\u001b[0m     \u001b[1;31m# call helper to do the real work\u001b[0m\u001b[1;33m\u001b[0m\u001b[1;33m\u001b[0m\u001b[1;33m\u001b[0m\u001b[0m\n",
      "\u001b[1;31mNodeNotFound\u001b[0m: Either source  or target  is not in G"
     ]
    }
   ],
   "source": [
    "# Função que retorna uma lista de vértices do caminho\n",
    "sp = nx.shortest_path(G,source = StartNode,target = FinalNode)\n",
    "\n",
    "# Exibição do caminho mínimo\n",
    "print(sp)"
   ]
  },
  {
   "cell_type": "markdown",
   "metadata": {},
   "source": [
    "# Densidade de um grafo"
   ]
  },
  {
   "cell_type": "code",
   "execution_count": 253,
   "metadata": {},
   "outputs": [
    {
     "data": {
      "text/plain": [
       "0.16666666666666666"
      ]
     },
     "execution_count": 253,
     "metadata": {},
     "output_type": "execute_result"
    }
   ],
   "source": [
    "# Função que calcula a densidade de um grafo\n",
    "nx.density(G)"
   ]
  },
  {
   "cell_type": "markdown",
   "metadata": {},
   "source": [
    "# Cálculo do grau médio de um grafo (grau de entrada e saída)"
   ]
  },
  {
   "cell_type": "code",
   "execution_count": 254,
   "metadata": {},
   "outputs": [
    {
     "data": {
      "text/plain": [
       "{1: 0.5}"
      ]
     },
     "execution_count": 254,
     "metadata": {},
     "output_type": "execute_result"
    }
   ],
   "source": [
    "# Função que calcula o grau de entrada e saída do grafo\n",
    "nx.average_degree_connectivity(G)"
   ]
  },
  {
   "cell_type": "markdown",
   "metadata": {},
   "source": [
    "# Geração da lista de adjacência (Networkx):"
   ]
  },
  {
   "cell_type": "code",
   "execution_count": 255,
   "metadata": {},
   "outputs": [
    {
     "name": "stdout",
     "output_type": "stream",
     "text": [
      "1 2\n",
      "2\n",
      "3 4\n",
      "4\n"
     ]
    }
   ],
   "source": [
    "# Foreach para exibir a representação da lista de adjacência\n",
    "for line in nx.generate_adjlist(G):\n",
    "    print(line)"
   ]
  },
  {
   "cell_type": "code",
   "execution_count": 256,
   "metadata": {},
   "outputs": [
    {
     "name": "stdout",
     "output_type": "stream",
     "text": [
      "['1', '2']\n",
      "2\n",
      "['2']\n",
      "['3', '4']\n",
      "4\n",
      "['4']\n"
     ]
    }
   ],
   "source": [
    "# Foreach para exibir a representação da lista de adjacência\n",
    "for line in nx.generate_adjlist(G):\n",
    "    line_list = line.split()\n",
    "    print(line_list)\n",
    "    for i in range(1, len(line_list)):\n",
    "        print(line_list[i])"
   ]
  },
  {
   "cell_type": "markdown",
   "metadata": {},
   "source": [
    "# Geração da lista de adjacência (Fonte própria):"
   ]
  },
  {
   "cell_type": "markdown",
   "metadata": {},
   "source": [
    "### Função para digrafos:"
   ]
  },
  {
   "cell_type": "code",
   "execution_count": 257,
   "metadata": {},
   "outputs": [],
   "source": [
    "def make_adjlist_digraph(G):\n",
    "    adjlist = {}\n",
    "    nodelist = G.nodes()\n",
    "    \n",
    "    for line in nx.generate_adjlist(G):\n",
    "        connect_list = []\n",
    "        line_list = line.split()\n",
    "        \n",
    "        for i in range(1, len(line_list)):\n",
    "            connect_list.append(line_list[i])\n",
    "            \n",
    "        node = {line_list[0]:connect_list}\n",
    "        adjlist.update(node)\n",
    "    \n",
    "    return adjlist"
   ]
  },
  {
   "cell_type": "markdown",
   "metadata": {},
   "source": [
    "### Função para grafos simples:"
   ]
  },
  {
   "cell_type": "code",
   "execution_count": 258,
   "metadata": {},
   "outputs": [],
   "source": [
    "def make_adjlist_graph(G):\n",
    "    nodelist = G.nodes()\n",
    "    edgelist = G.edges()\n",
    "    adjlist = {}\n",
    "    \n",
    "    for node_index in nodelist:\n",
    "        connect_list = []\n",
    "        \n",
    "        for edges in edgelist:            \n",
    "            if node_index == edges[0]:\n",
    "                connect_list.append(edges[1])\n",
    "            if node_index == edges[1]:\n",
    "                connect_list.append(edges[0])\n",
    "                \n",
    "        node = {node_index:connect_list}\n",
    "        adjlist.update(node)\n",
    "\n",
    "    return adjlist"
   ]
  },
  {
   "cell_type": "markdown",
   "metadata": {},
   "source": [
    "### Função de geral:"
   ]
  },
  {
   "cell_type": "code",
   "execution_count": 259,
   "metadata": {},
   "outputs": [],
   "source": [
    "def make_adjlist(G):\n",
    "    if nx.is_directed(G):\n",
    "        return make_adjlist_digraph(G)\n",
    "    else:\n",
    "        return make_adjlist_graph(G)"
   ]
  },
  {
   "cell_type": "markdown",
   "metadata": {},
   "source": [
    "#### Resultado:"
   ]
  },
  {
   "cell_type": "code",
   "execution_count": 260,
   "metadata": {},
   "outputs": [
    {
     "name": "stdout",
     "output_type": "stream",
     "text": [
      "{'1': ['2'], '2': [], '3': ['4'], '4': []}\n"
     ]
    }
   ],
   "source": [
    "lista_adjacencia = make_adjlist(G)\n",
    "print(lista_adjacencia)"
   ]
  },
  {
   "cell_type": "markdown",
   "metadata": {},
   "source": [
    "# Geração da lista de adjacência (Forma alternativa - Networkx):"
   ]
  },
  {
   "cell_type": "code",
   "execution_count": 261,
   "metadata": {},
   "outputs": [],
   "source": [
    "V = G.adjacency()"
   ]
  },
  {
   "cell_type": "code",
   "execution_count": 262,
   "metadata": {},
   "outputs": [
    {
     "name": "stdout",
     "output_type": "stream",
     "text": [
      "<dict_itemiterator object at 0x000001F9C0323270>\n"
     ]
    }
   ],
   "source": [
    "print(V)"
   ]
  },
  {
   "cell_type": "code",
   "execution_count": 263,
   "metadata": {},
   "outputs": [],
   "source": [
    "adjlist = []\n",
    "\n",
    "for line in V:\n",
    "    adjlist.append(line)"
   ]
  },
  {
   "cell_type": "markdown",
   "metadata": {},
   "source": [
    "#### Resultado:"
   ]
  },
  {
   "cell_type": "code",
   "execution_count": 266,
   "metadata": {},
   "outputs": [
    {
     "data": {
      "text/plain": [
       "[('1', {'2': {'weight': 9.8}}),\n",
       " ('2', {}),\n",
       " ('3', {'4': {'weight': 1.0}}),\n",
       " ('4', {})]"
      ]
     },
     "execution_count": 266,
     "metadata": {},
     "output_type": "execute_result"
    }
   ],
   "source": [
    "adjlist"
   ]
  },
  {
   "cell_type": "markdown",
   "metadata": {},
   "source": [
    "# Função algorítmo de busca BFS (Breadth-first Search)"
   ]
  },
  {
   "cell_type": "code",
   "execution_count": 267,
   "metadata": {},
   "outputs": [],
   "source": [
    "def BFS(G, node, visited, queue, bfslist):\n",
    "    \n",
    "    visited.append(node)\n",
    "    queue.append(node)\n",
    "    TPGraph = nx.DiGraph()\n",
    "    TPGraph.add_node(node)\n",
    "    \n",
    "    while queue:\n",
    "        print(queue)\n",
    "        s = queue.pop(0)\n",
    "        bfslist.append(s)\n",
    "\n",
    "        for neighbour in G.neighbors(s):\n",
    "            if neighbour not in visited:\n",
    "                visited.append(neighbour)\n",
    "                queue.append(neighbour)\n",
    "                TPGraph.add_edge(s, neighbour)\n",
    "\n",
    "    return TPGraph"
   ]
  },
  {
   "cell_type": "code",
   "execution_count": 268,
   "metadata": {},
   "outputs": [],
   "source": [
    "visited = []\n",
    "queue = []\n",
    "bfslist = []\n",
    "comp = 0"
   ]
  },
  {
   "cell_type": "code",
   "execution_count": 269,
   "metadata": {},
   "outputs": [
    {
     "name": "stdout",
     "output_type": "stream",
     "text": [
      "['1']\n",
      "['2']\n"
     ]
    }
   ],
   "source": [
    "TPGraph = BFS(G, \"1\", visited, queue, bfslist)"
   ]
  },
  {
   "cell_type": "code",
   "execution_count": 270,
   "metadata": {
    "scrolled": true
   },
   "outputs": [
    {
     "data": {
      "text/plain": [
       "['1', '2']"
      ]
     },
     "execution_count": 270,
     "metadata": {},
     "output_type": "execute_result"
    }
   ],
   "source": [
    "bfslist"
   ]
  },
  {
   "cell_type": "code",
   "execution_count": 271,
   "metadata": {},
   "outputs": [
    {
     "data": {
      "image/png": "[encoded data removed]",
      "text/plain": [
       "<Figure size 432x288 with 1 Axes>"
      ]
     },
     "metadata": {},
     "output_type": "display_data"
    }
   ],
   "source": [
    "posi = nx.spring_layout(TPGraph)\n",
    "\n",
    "nx.draw_networkx_nodes(TPGraph, posi)\n",
    "nx.draw_networkx_edges(TPGraph, posi)\n",
    "nx.draw_networkx_labels(TPGraph, posi)\n",
    "plt.show()"
   ]
  },
  {
   "cell_type": "code",
   "execution_count": null,
   "metadata": {},
   "outputs": [],
   "source": []
  }
 ],
 "metadata": {
  "kernelspec": {
   "display_name": "Python 3",
   "language": "python",
   "name": "python3"
  },
  "language_info": {
   "codemirror_mode": {
    "name": "ipython",
    "version": 3
   },
   "file_extension": ".py",
   "mimetype": "text/x-python",
   "name": "python",
   "nbconvert_exporter": "python",
   "pygments_lexer": "ipython3",
   "version": "3.8.3"
  }
 },
 "nbformat": 4,
 "nbformat_minor": 4
}
