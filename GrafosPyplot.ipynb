{
 "cells": [
  {
   "cell_type": "markdown",
   "metadata": {},
   "source": [
    "# Importando bibliotecas"
   ]
  },
  {
   "cell_type": "markdown",
   "metadata": {},
   "source": [
    "Matplotlib é uma biblioteca que é utilizada para a exibição de gráficos\n"
   ]
  },
  {
   "cell_type": "markdown",
   "metadata": {},
   "source": [
    "Networkx é a biblioteca utilizada para a criação de grafos "
   ]
  },
  {
   "cell_type": "code",
   "execution_count": 2,
   "metadata": {},
   "outputs": [],
   "source": [
    "import matplotlib.pyplot as plt \n",
    "import networkx as nx\n",
    "from networkx.drawing.nx_agraph import graphviz_layout"
   ]
  },
  {
   "cell_type": "markdown",
   "metadata": {},
   "source": [
    "# Criando um grafo\n",
    "Digite 'digraph' para criar um digrafo ou 'graph' para criar um grafo não dirigido"
   ]
  },
  {
   "cell_type": "code",
   "execution_count": 3,
   "metadata": {},
   "outputs": [
    {
     "name": "stdout",
     "output_type": "stream",
     "text": [
      "graph\n"
     ]
    }
   ],
   "source": [
    "# variável que controla o tipo do grafo (dirigido ou não dirigido)\n",
    "type = str(input())\n",
    "\n",
    "# condição para a criação do grafo\n",
    "if type.lower() == 'graph':\n",
    "    \n",
    "    # setup inicial de um grafo não dirigido pelo networkX\n",
    "    G = nx.Graph()\n",
    "elif type.lower() == 'digraph':\n",
    "    \n",
    "    # setup inicial de um grafo não dirigido pelo networkX\n",
    "    G = nx.DiGraph()\n",
    "    \n",
    "else:\n",
    "    \n",
    "    # opção invalida\n",
    "    print(\"Nenhuma opção foi escolhida\")"
   ]
  },
  {
   "cell_type": "markdown",
   "metadata": {},
   "source": [
    "# Digite as arestas do grafo\n",
    "## Automaticamente serão adicionados os vértices inseridos\n",
    "OBS: Digite 'stop' para parar a inserção de dados"
   ]
  },
  {
   "cell_type": "code",
   "execution_count": 4,
   "metadata": {},
   "outputs": [
    {
     "name": "stdout",
     "output_type": "stream",
     "text": [
      "Aresta:0\n",
      "Vértice Source\n",
      "1\n",
      "Vértice Target\n",
      "2\n",
      "Peso da aresta\n",
      "3\n",
      "Aresta:1\n",
      "Vértice Source\n",
      "stop\n"
     ]
    }
   ],
   "source": [
    "# loop para a criação de grafos pela entrada com teclado\n",
    "while True:\n",
    "    \n",
    "    # Aresta com o seu respectivo número\n",
    "    print(\"Aresta:\" + str(len(G.edges())))\n",
    "    \n",
    "    # Vértice de saída da aresta\n",
    "    print(\"Vértice Source\")\n",
    "    \n",
    "    # Label do nó de saída da aresta\n",
    "    node1 = input()\n",
    "    \n",
    "    # Caso o usuário informe \"stop\" o programa para de receber inputs\n",
    "    if(node1 == 'stop'):\n",
    "        break\n",
    "\n",
    "    # Vértice de entrada da aresta\n",
    "    print(\"Vértice Target\")\n",
    "    \n",
    "    # Label do nó de entrada da aresta\n",
    "    node2 = input()\n",
    "    \n",
    "    # Caso o usuário informe \"stop\" o programa para de receber inputs\n",
    "    if(node2 == 'stop'):\n",
    "        break\n",
    "        \n",
    "    # Peso da aresta informada\n",
    "    print(\"Peso da aresta\")\n",
    "    wt = float(input())\n",
    "    \n",
    "    \n",
    "    # Adicionando a aresta ao Grafo\n",
    "    G.add_edge(node1, node2, weight=wt)\n"
   ]
  },
  {
   "cell_type": "code",
   "execution_count": 5,
   "metadata": {},
   "outputs": [
    {
     "name": "stdout",
     "output_type": "stream",
     "text": [
      "[('1', '2')] ['1', '2']\n"
     ]
    }
   ],
   "source": [
    "print(G.edges(), G.nodes())"
   ]
  },
  {
   "cell_type": "markdown",
   "metadata": {},
   "source": [
    "# Exibição do Grafo\n",
    "## Escolha o tipo do layout ('Aleatorio', 'Circular')"
   ]
  },
  {
   "cell_type": "code",
   "execution_count": 7,
   "metadata": {},
   "outputs": [
    {
     "name": "stdout",
     "output_type": "stream",
     "text": [
      "aleatorio\n"
     ]
    }
   ],
   "source": [
    "layout_type = str(input())\n",
    "layout_type.lower()\n",
    "\n",
    "# Variável que armazena a posição dos vértices baseado no layout\n",
    "if layout_type == 'aleatorio':\n",
    "    pos = nx.spring_layout(G, k=2)\n",
    "elif layout_type == 'circular':\n",
    "    pos = nx.circular_layout(G)"
   ]
  },
  {
   "cell_type": "code",
   "execution_count": 8,
   "metadata": {},
   "outputs": [
    {
     "data": {
      "image/png": "[encoded data removed]",
      "text/plain": [
       "<Figure size 1152x504 with 1 Axes>"
      ]
     },
     "metadata": {},
     "output_type": "display_data"
    }
   ],
   "source": [
    "# Utilizado para definir o tamanho da exibição\n",
    "fig = plt.figure(figsize=(16, 7))\n",
    "\n",
    "\n",
    "# Variável que armazena o peso das arestas\n",
    "labels = nx.get_edge_attributes(G,'weight')\n",
    "\n",
    "# Função que desenha os nós Grafo\n",
    "nx.draw_networkx_nodes(\n",
    "    G, \n",
    "    pos, \n",
    "    node_color='r'\n",
    ")\n",
    "\n",
    "# Função que exibe as labels dos nós do grafo\n",
    "nx.draw_networkx_labels(\n",
    "    G, \n",
    "    pos\n",
    ")\n",
    "\n",
    "# Função que exibe os pesos das arestas do grafo\n",
    "nx.draw_networkx_edge_labels(\n",
    "    G, \n",
    "    pos, \n",
    "    font_size=10, \n",
    "    edge_labels=labels\n",
    ")\n",
    "\n",
    "# Função que desenha as arestas do grafo\n",
    "nx.draw_networkx_edges(\n",
    "    G, \n",
    "    pos, \n",
    "    width=1,\n",
    "    length=7\n",
    ")\n",
    "\n",
    "plt.show()"
   ]
  },
  {
   "cell_type": "markdown",
   "metadata": {},
   "source": [
    "# Exibição do número de Vértices "
   ]
  },
  {
   "cell_type": "code",
   "execution_count": 21,
   "metadata": {},
   "outputs": [
    {
     "name": "stdout",
     "output_type": "stream",
     "text": [
      "Número de vertices:  4\n"
     ]
    }
   ],
   "source": [
    "# Função que retorna o número de vértices do Grafo\n",
    "numV = len(list(G.nodes()))\n",
    "print('Número de vertices: ',numV)"
   ]
  },
  {
   "cell_type": "markdown",
   "metadata": {},
   "source": [
    "# Exibição do número de Arestas"
   ]
  },
  {
   "cell_type": "code",
   "execution_count": 22,
   "metadata": {},
   "outputs": [
    {
     "name": "stdout",
     "output_type": "stream",
     "text": [
      "Número de arestas:  3\n"
     ]
    }
   ],
   "source": [
    "# Função que retorna o número de arestas do Grafo\n",
    "numA = len(list(G.edges()))\n",
    "print('Número de arestas: ',numA)"
   ]
  },
  {
   "cell_type": "markdown",
   "metadata": {},
   "source": [
    "# Exibição do número de Componentes"
   ]
  },
  {
   "cell_type": "code",
   "execution_count": 23,
   "metadata": {},
   "outputs": [
    {
     "name": "stdout",
     "output_type": "stream",
     "text": [
      "Número de componentes:  2\n"
     ]
    }
   ],
   "source": [
    "# Função que retorna o número de componentes do Grafo\n",
    "# G.to_undirected() transforma grafos para não dirigidos forçadamente\n",
    "numC = nx.number_connected_components(G.to_undirected())\n",
    "print('Número de componentes: ',numC)"
   ]
  },
  {
   "cell_type": "markdown",
   "metadata": {},
   "source": [
    "# Matriz de adjacência "
   ]
  },
  {
   "cell_type": "code",
   "execution_count": 24,
   "metadata": {},
   "outputs": [],
   "source": [
    "# Função que retorna a matriz de adjacência do Grafo\n",
    "matrix = nx.adjacency_matrix(G)"
   ]
  },
  {
   "cell_type": "code",
   "execution_count": 25,
   "metadata": {},
   "outputs": [
    {
     "name": "stdout",
     "output_type": "stream",
     "text": [
      "[[0. 1. 0. 0.]\n",
      " [1. 0. 0. 0.]\n",
      " [0. 0. 1. 6.]\n",
      " [0. 0. 6. 0.]]\n"
     ]
    }
   ],
   "source": [
    "# Representação da matriz de adjacência\n",
    "print(matrix.todense())"
   ]
  },
  {
   "cell_type": "markdown",
   "metadata": {},
   "source": [
    "# Pajek\n",
    "## Código para geração de arquivo apartir do grafo acima (pode ser lido pelo pajek) "
   ]
  },
  {
   "cell_type": "code",
   "execution_count": 34,
   "metadata": {},
   "outputs": [],
   "source": [
    "# Função para escrever o Grafo em Pajek .net informando o grafo e o nome do arquivo em que deseja gravar o grafo\n",
    "nx.write_pajek(G, \"Grafo.net\")"
   ]
  },
  {
   "cell_type": "markdown",
   "metadata": {},
   "source": [
    "# Caminho mínimo"
   ]
  },
  {
   "cell_type": "code",
   "execution_count": 39,
   "metadata": {
    "scrolled": true
   },
   "outputs": [
    {
     "name": "stdout",
     "output_type": "stream",
     "text": [
      "Insira o nó de onde deseja começar: \n",
      "4\n",
      "Insira o nó que deseja finalizar: \n",
      "origem\n"
     ]
    }
   ],
   "source": [
    "# Input para informar o nó pai da busca\n",
    "print('Insira o nó de onde deseja começar: ')\n",
    "StartNode = input()\n",
    "\n",
    "# Input para informar o nó de chegada da busca\n",
    "print('Insira o nó que deseja finalizar: ')\n",
    "FinalNode = input()\n"
   ]
  },
  {
   "cell_type": "code",
   "execution_count": 38,
   "metadata": {},
   "outputs": [
    {
     "data": {
      "text/plain": [
       "EdgeView([('4', '3'), ('4', 'destino'), ('3', '1'), ('2', '2'), ('2', '5'), ('origem', 'destino'), ('origem', '1'), ('1 2', 'um x')])"
      ]
     },
     "execution_count": 38,
     "metadata": {},
     "output_type": "execute_result"
    }
   ],
   "source": [
    "G.edges()"
   ]
  },
  {
   "cell_type": "code",
   "execution_count": 40,
   "metadata": {},
   "outputs": [
    {
     "name": "stdout",
     "output_type": "stream",
     "text": [
      "['4', 'destino', 'origem']\n"
     ]
    }
   ],
   "source": [
    "# Função que retorna uma lista de vértices do caminho\n",
    "sp = nx.shortest_path(G,source = StartNode,target = FinalNode)\n",
    "\n",
    "# Exibição do caminho mínimo\n",
    "print(sp)"
   ]
  },
  {
   "cell_type": "markdown",
   "metadata": {},
   "source": [
    "# Densidade de um grafo"
   ]
  },
  {
   "cell_type": "code",
   "execution_count": 41,
   "metadata": {},
   "outputs": [
    {
     "data": {
      "text/plain": [
       "0.2222222222222222"
      ]
     },
     "execution_count": 41,
     "metadata": {},
     "output_type": "execute_result"
    }
   ],
   "source": [
    "# Função que calcula a densidade de um grafo\n",
    "nx.density(G)"
   ]
  },
  {
   "cell_type": "markdown",
   "metadata": {},
   "source": [
    "# Cálculo do grau médio de um grafo (grau de entrada e saída)"
   ]
  },
  {
   "cell_type": "code",
   "execution_count": 42,
   "metadata": {},
   "outputs": [
    {
     "data": {
      "text/plain": [
       "{2: 2.0, 3: 1.3333333333333333, 1: 1.6666666666666667}"
      ]
     },
     "execution_count": 42,
     "metadata": {},
     "output_type": "execute_result"
    }
   ],
   "source": [
    "# Função que calcula o grau de entrada e saída do grafo\n",
    "nx.average_degree_connectivity(G)"
   ]
  },
  {
   "cell_type": "markdown",
   "metadata": {},
   "source": [
    "# Geração da lista de adjacência"
   ]
  },
  {
   "cell_type": "code",
   "execution_count": 43,
   "metadata": {},
   "outputs": [
    {
     "name": "stdout",
     "output_type": "stream",
     "text": [
      "4 3 destino\n",
      "3 1\n",
      "2 2 5\n",
      "5\n",
      "origem destino 1\n",
      "destino\n",
      "1\n",
      "1 2 um x\n",
      "um x\n"
     ]
    }
   ],
   "source": [
    "# Foreach para exibir a representação da matriz de adjacência\n",
    "for line in nx.generate_adjlist(G):\n",
    "    print(line)"
   ]
  },
  {
   "cell_type": "code",
   "execution_count": 87,
   "metadata": {},
   "outputs": [],
   "source": [
    "V = G.adjacency()"
   ]
  },
  {
   "cell_type": "code",
   "execution_count": 88,
   "metadata": {},
   "outputs": [
    {
     "name": "stdout",
     "output_type": "stream",
     "text": [
      "<dict_itemiterator object at 0x000002024651A900>\n"
     ]
    }
   ],
   "source": [
    "print(V)"
   ]
  },
  {
   "cell_type": "code",
   "execution_count": 89,
   "metadata": {},
   "outputs": [],
   "source": [
    "adjlist = []\n",
    "\n",
    "for line in V:\n",
    "    adjlist.append(line)"
   ]
  },
  {
   "cell_type": "code",
   "execution_count": 90,
   "metadata": {},
   "outputs": [
    {
     "data": {
      "text/plain": [
       "[('4', {'3': {'weight': 1.0}, 'destino': {'weight': 1.0}}),\n",
       " ('3', {'4': {'weight': 1.0}, '1': {'weight': 5.0}}),\n",
       " ('2', {'2': {'weight': 1.0}, '5': {'weight': 6.0}}),\n",
       " ('5', {'2': {'weight': 6.0}}),\n",
       " ('origem', {'destino': {'weight': 3.0}, '1': {'weight': 3.0}}),\n",
       " ('destino', {'origem': {'weight': 3.0}, '4': {'weight': 1.0}}),\n",
       " ('1', {'origem': {'weight': 3.0}, '3': {'weight': 5.0}}),\n",
       " ('1 2', {'um x': {'weight': 3.0}}),\n",
       " ('um x', {'1 2': {'weight': 3.0}})]"
      ]
     },
     "execution_count": 90,
     "metadata": {},
     "output_type": "execute_result"
    }
   ],
   "source": [
    "adjlist"
   ]
  },
  {
   "cell_type": "code",
   "execution_count": 99,
   "metadata": {},
   "outputs": [
    {
     "data": {
      "text/plain": [
       "{'weight': 1.0}"
      ]
     },
     "execution_count": 99,
     "metadata": {},
     "output_type": "execute_result"
    }
   ],
   "source": [
    "adjlist[0][1][\"destino\"]"
   ]
  },
  {
   "cell_type": "code",
   "execution_count": 103,
   "metadata": {},
   "outputs": [
    {
     "name": "stdout",
     "output_type": "stream",
     "text": [
      "origem\n",
      "3\n"
     ]
    }
   ],
   "source": [
    "for i in G.neighbors(\"1\"):\n",
    "    print(i)"
   ]
  },
  {
   "cell_type": "code",
   "execution_count": 9,
   "metadata": {},
   "outputs": [],
   "source": [
    "def BFS(G, node, visited, queue, bfslist):\n",
    "    \n",
    "    visited.append(node)\n",
    "    queue.append(node)\n",
    "    TPGraph = nx.DiGraph()\n",
    "    TPGraph.add_node(node)\n",
    "    \n",
    "    while queue:\n",
    "        print(queue)\n",
    "        s = queue.pop(0)\n",
    "        bfslist.append(s)\n",
    "\n",
    "        for neighbour in G.neighbors(s):\n",
    "            if neighbour not in visited:\n",
    "                visited.append(neighbour)\n",
    "                queue.append(neighbour)\n",
    "                TPGraph.add_edge(s, neighbour)\n",
    "                \n",
    "    return TPGraph"
   ]
  },
  {
   "cell_type": "code",
   "execution_count": 10,
   "metadata": {},
   "outputs": [],
   "source": [
    "visited = []\n",
    "queue = []\n",
    "bfslist = []"
   ]
  },
  {
   "cell_type": "code",
   "execution_count": 12,
   "metadata": {},
   "outputs": [
    {
     "name": "stdout",
     "output_type": "stream",
     "text": [
      "['1']\n",
      "['2']\n"
     ]
    }
   ],
   "source": [
    "TPGraph = BFS(G, \"1\", visited, queue, bfslist)"
   ]
  },
  {
   "cell_type": "code",
   "execution_count": 13,
   "metadata": {},
   "outputs": [
    {
     "data": {
      "text/plain": [
       "['6', '1', '2']"
      ]
     },
     "execution_count": 13,
     "metadata": {},
     "output_type": "execute_result"
    }
   ],
   "source": [
    "bfslist"
   ]
  },
  {
   "cell_type": "code",
   "execution_count": 14,
   "metadata": {},
   "outputs": [
    {
     "data": {
      "image/png": "[encoded data removed]",
      "text/plain": [
       "<Figure size 432x288 with 1 Axes>"
      ]
     },
     "metadata": {},
     "output_type": "display_data"
    }
   ],
   "source": [
    "posi = nx.spring_layout(TPGraph)\n",
    "\n",
    "nx.draw_networkx_nodes(TPGraph, posi)\n",
    "nx.draw_networkx_edges(TPGraph, posi)\n",
    "nx.draw_networkx_labels(TPGraph, posi)\n",
    "plt.show()"
   ]
  },
  {
   "cell_type": "code",
   "execution_count": null,
   "metadata": {},
   "outputs": [],
   "source": []
  }
 ],
 "metadata": {
  "kernelspec": {
   "display_name": "Python 3",
   "language": "python",
   "name": "python3"
  },
  "language_info": {
   "codemirror_mode": {
    "name": "ipython",
    "version": 3
   },
   "file_extension": ".py",
   "mimetype": "text/x-python",
   "name": "python",
   "nbconvert_exporter": "python",
   "pygments_lexer": "ipython3",
   "version": "3.8.3"
  }
 },
 "nbformat": 4,
 "nbformat_minor": 4
}
