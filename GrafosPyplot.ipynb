{
 "cells": [
  {
   "cell_type": "markdown",
   "metadata": {},
   "source": [
    "# Importando bibliotecas"
   ]
  },
  {
   "cell_type": "markdown",
   "metadata": {},
   "source": [
    "Matplotlib é uma biblioteca que é utilizada para a exibição de gráficos\n"
   ]
  },
  {
   "cell_type": "markdown",
   "metadata": {},
   "source": [
    "Networkx é a biblioteca utilizada para a criação de grafos "
   ]
  },
  {
   "cell_type": "code",
   "execution_count": 1,
   "metadata": {},
   "outputs": [],
   "source": [
    "import matplotlib.pyplot as plt \n",
    "import networkx as nx"
   ]
  },
  {
   "cell_type": "markdown",
   "metadata": {},
   "source": [
    "# Criando um grafo\n",
    "Digite 'digraph' para criar um digrafo ou 'graph' para criar um grafo não dirigido"
   ]
  },
  {
   "cell_type": "code",
   "execution_count": 2,
   "metadata": {},
   "outputs": [
    {
     "name": "stdout",
     "output_type": "stream",
     "text": [
      "graph\n"
     ]
    }
   ],
   "source": [
    "type = str(input())\n",
    "if type.lower() == 'graph':\n",
    "    G = nx.Graph()\n",
    "elif type.lower() == 'digraph':\n",
    "    G = nx.DiGraph()\n",
    "else:\n",
    "    print(\"Nenhuma opção foi escolhida\")"
   ]
  },
  {
   "cell_type": "markdown",
   "metadata": {},
   "source": [
    "# Digite as arestas do grafo\n",
    "## Automaticamente serão adicionados os vértices inseridos\n",
    "OBS: Digite 'stop' para parar a inserção de dados"
   ]
  },
  {
   "cell_type": "code",
   "execution_count": 3,
   "metadata": {},
   "outputs": [
    {
     "name": "stdout",
     "output_type": "stream",
     "text": [
      "Aresta:1\n",
      "Vértice 1\n",
      "5\n",
      "Vértice 2\n",
      "6\n",
      "Peso da aresta\n",
      "5\n",
      "Aresta:2\n",
      "Vértice 1\n",
      "2\n",
      "Vértice 2\n",
      "9\n",
      "Peso da aresta\n",
      "8\n",
      "Aresta:3\n",
      "Vértice 1\n",
      "6\n",
      "Vértice 2\n",
      "5\n",
      "Peso da aresta\n",
      "5\n",
      "Aresta:4\n",
      "Vértice 1\n",
      "0\n",
      "Vértice 2\n",
      "6\n",
      "Peso da aresta\n",
      "7\n",
      "Aresta:5\n",
      "Vértice 1\n",
      "stop\n"
     ]
    }
   ],
   "source": [
    "i = 0\n",
    "while True:\n",
    "    i = i + 1\n",
    "    print(\"Aresta:\" + str(i))\n",
    "    print(\"Vértice 1\")\n",
    "    node1 = input()\n",
    "    if(node1 == 'stop'):\n",
    "        break\n",
    "    print(\"Vértice 2\")\n",
    "    node2 = input()\n",
    "    print(\"Peso da aresta\")\n",
    "    wt = float(input())\n",
    "    G.add_edge(node1, node2, weight=wt)\n"
   ]
  },
  {
   "cell_type": "markdown",
   "metadata": {},
   "source": [
    "# Exibição do Grafo"
   ]
  },
  {
   "cell_type": "code",
   "execution_count": 12,
   "metadata": {},
   "outputs": [
    {
     "data": {
      "image/png": "[encoded data removed]",
      "text/plain": [
       "<Figure size 504x360 with 1 Axes>"
      ]
     },
     "metadata": {},
     "output_type": "display_data"
    }
   ],
   "source": [
    "fig = plt.figure(figsize=(7,5))#Utilizado para definir o tamanho da exibição\n",
    "nx.draw(G, with_labels=True, edge_color=\"black\")\n",
    "plt.show()"
   ]
  },
  {
   "cell_type": "markdown",
   "metadata": {},
   "source": [
    "# Exibição do número de Vértices "
   ]
  },
  {
   "cell_type": "code",
   "execution_count": 13,
   "metadata": {},
   "outputs": [
    {
     "name": "stdout",
     "output_type": "stream",
     "text": [
      "Número de vertices:  5\n"
     ]
    }
   ],
   "source": [
    "numV = len(list(G.nodes()))\n",
    "print('Número de vertices: ',numV)"
   ]
  },
  {
   "cell_type": "markdown",
   "metadata": {},
   "source": [
    "# Exibição do número de Arestas"
   ]
  },
  {
   "cell_type": "code",
   "execution_count": 14,
   "metadata": {},
   "outputs": [
    {
     "name": "stdout",
     "output_type": "stream",
     "text": [
      "Número de arestas:  3\n"
     ]
    }
   ],
   "source": [
    "numA = len(list(G.edges()))\n",
    "print('Número de arestas: ',numA)"
   ]
  },
  {
   "cell_type": "markdown",
   "metadata": {},
   "source": [
    "# Exibição do número de Componentes"
   ]
  },
  {
   "cell_type": "code",
   "execution_count": 15,
   "metadata": {},
   "outputs": [
    {
     "name": "stdout",
     "output_type": "stream",
     "text": [
      "Número de componentes:  2\n"
     ]
    }
   ],
   "source": [
    "numC = nx.number_connected_components(G.to_undirected())\n",
    "print('Número de componentes: ',numC)"
   ]
  },
  {
   "cell_type": "markdown",
   "metadata": {},
   "source": [
    "# Matriz de adjacência "
   ]
  },
  {
   "cell_type": "code",
   "execution_count": 16,
   "metadata": {},
   "outputs": [],
   "source": [
    "matrix = nx.adjacency_matrix(G)"
   ]
  },
  {
   "cell_type": "code",
   "execution_count": 17,
   "metadata": {},
   "outputs": [
    {
     "name": "stdout",
     "output_type": "stream",
     "text": [
      "[[0. 5. 0. 0. 0.]\n",
      " [5. 0. 0. 0. 7.]\n",
      " [0. 0. 0. 8. 0.]\n",
      " [0. 0. 8. 0. 0.]\n",
      " [0. 7. 0. 0. 0.]]\n"
     ]
    }
   ],
   "source": [
    "print(matrix.todense())"
   ]
  },
  {
   "cell_type": "markdown",
   "metadata": {},
   "source": [
    "# Pajek\n",
    "## Código para geração de arquivo apartir do grafo acima (pode ser lido pelo pajek) "
   ]
  },
  {
   "cell_type": "code",
   "execution_count": 18,
   "metadata": {},
   "outputs": [],
   "source": [
    "nx.write_pajek(G, \"Grafo.net\")"
   ]
  },
  {
   "cell_type": "code",
   "execution_count": 52,
   "metadata": {},
   "outputs": [
    {
     "name": "stdout",
     "output_type": "stream",
     "text": [
      "5\n",
      "0\n"
     ]
    }
   ],
   "source": [
    "print('Insira o nó de onde deseja começar: ')\n",
    "StartNode = input()\n",
    "print('Insira o nó que deseja finalizar: ')\n",
    "FinalNode = input()\n"
   ]
  },
  {
   "cell_type": "code",
   "execution_count": 53,
   "metadata": {},
   "outputs": [
    {
     "data": {
      "text/plain": [
       "['5', '6', '0']"
      ]
     },
     "execution_count": 53,
     "metadata": {},
     "output_type": "execute_result"
    }
   ],
   "source": [
    "sp = nx.shortest_path(G,source = StartNode,target = FinalNode)\n",
    "sp"
   ]
  },
  {
   "cell_type": "code",
   "execution_count": 54,
   "metadata": {},
   "outputs": [
    {
     "data": {
      "text/plain": [
       "0.3"
      ]
     },
     "execution_count": 54,
     "metadata": {},
     "output_type": "execute_result"
    }
   ],
   "source": [
    "nx.density(G)"
   ]
  },
  {
   "cell_type": "code",
   "execution_count": 55,
   "metadata": {},
   "outputs": [
    {
     "data": {
      "text/plain": [
       "{1: 1.5, 2: 1.0}"
      ]
     },
     "execution_count": 55,
     "metadata": {},
     "output_type": "execute_result"
    }
   ],
   "source": [
    "nx.average_degree_connectivity(G)"
   ]
  },
  {
   "cell_type": "code",
   "execution_count": 56,
   "metadata": {},
   "outputs": [
    {
     "name": "stdout",
     "output_type": "stream",
     "text": [
      "5 6\n",
      "6 0\n",
      "2 9\n",
      "9\n",
      "0\n"
     ]
    }
   ],
   "source": [
    "for line in nx.generate_adjlist(G):\n",
    "    print(line)"
   ]
  },
  {
   "cell_type": "code",
   "execution_count": null,
   "metadata": {},
   "outputs": [],
   "source": []
  }
 ],
 "metadata": {
  "kernelspec": {
   "display_name": "Python 3",
   "language": "python",
   "name": "python3"
  },
  "language_info": {
   "codemirror_mode": {
    "name": "ipython",
    "version": 3
   },
   "file_extension": ".py",
   "mimetype": "text/x-python",
   "name": "python",
   "nbconvert_exporter": "python",
   "pygments_lexer": "ipython3",
   "version": "3.7.9"
  }
 },
 "nbformat": 4,
 "nbformat_minor": 4
}
