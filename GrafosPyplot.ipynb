{
 "cells": [
  {
   "cell_type": "markdown",
   "metadata": {},
   "source": [
    "# Importando bibliotecas"
   ]
  },
  {
   "cell_type": "markdown",
   "metadata": {},
   "source": [
    "Matplotlib é uma biblioteca que é utilizada para a exibição de gráficos\n"
   ]
  },
  {
   "cell_type": "markdown",
   "metadata": {},
   "source": [
    "Networkx é a biblioteca utilizada para a criação de grafos "
   ]
  },
  {
   "cell_type": "code",
   "execution_count": 1,
   "metadata": {},
   "outputs": [],
   "source": [
    "import matplotlib.pyplot as plt \n",
    "import networkx as nx\n",
    "from networkx.drawing.nx_agraph import graphviz_layout"
   ]
  },
  {
   "cell_type": "markdown",
   "metadata": {},
   "source": [
    "# Criando um grafo\n",
    "Digite 'digraph' para criar um digrafo ou 'graph' para criar um grafo não dirigido"
   ]
  },
  {
   "cell_type": "code",
   "execution_count": 5,
   "metadata": {},
   "outputs": [
    {
     "name": "stdout",
     "output_type": "stream",
     "text": [
      "digraph\n"
     ]
    }
   ],
   "source": [
    "# variável que controla o tipo do grafo (dirigido ou não dirigido)\n",
    "type = str(input())\n",
    "\n",
    "# condição para a criação do grafo\n",
    "if type.lower() == 'graph':\n",
    "    \n",
    "    # setup inicial de um grafo não dirigido pelo networkX\n",
    "    G = nx.Graph()\n",
    "elif type.lower() == 'digraph':\n",
    "    \n",
    "    # setup inicial de um grafo não dirigido pelo networkX\n",
    "    G = nx.DiGraph()\n",
    "    \n",
    "else:\n",
    "    \n",
    "    # opção invalida\n",
    "    print(\"Nenhuma opção foi escolhida\")"
   ]
  },
  {
   "cell_type": "markdown",
   "metadata": {},
   "source": [
    "# Digite as arestas do grafo\n",
    "## Automaticamente serão adicionados os vértices inseridos\n",
    "OBS: Digite 'stop' para parar a inserção de dados"
   ]
  },
  {
   "cell_type": "code",
   "execution_count": 10,
   "metadata": {},
   "outputs": [
    {
     "name": "stdout",
     "output_type": "stream",
     "text": [
      "Aresta:3\n",
      "Vértice Source\n",
      "4\n",
      "Vértice Target\n",
      "4\n",
      "Peso da aresta\n",
      "1\n",
      "Aresta:4\n",
      "Vértice Source\n",
      "stop\n"
     ]
    }
   ],
   "source": [
    "# loop para a criação de grafos pela entrada com teclado\n",
    "while True:\n",
    "    \n",
    "    # Aresta com o seu respectivo número\n",
    "    print(\"Aresta:\" + str(len(G.edges())))\n",
    "    \n",
    "    # Vértice de saída da aresta\n",
    "    print(\"Vértice Source\")\n",
    "    \n",
    "    # Label do nó de saída da aresta\n",
    "    node1 = input()\n",
    "    \n",
    "    # Caso o usuário informe \"stop\" o programa para de receber inputs\n",
    "    if(node1 == 'stop'):\n",
    "        break\n",
    "\n",
    "    # Vértice de entrada da aresta\n",
    "    print(\"Vértice Target\")\n",
    "    \n",
    "    # Label do nó de entrada da aresta\n",
    "    node2 = input()\n",
    "    \n",
    "    # Caso o usuário informe \"stop\" o programa para de receber inputs\n",
    "    if(node2 == 'stop'):\n",
    "        break\n",
    "        \n",
    "    # Peso da aresta informada\n",
    "    print(\"Peso da aresta\")\n",
    "    wt = float(input())\n",
    "    \n",
    "    \n",
    "    # Adicionando a aresta ao Grafo\n",
    "    G.add_edge(node1, node2, weight=wt)\n"
   ]
  },
  {
   "cell_type": "code",
   "execution_count": 11,
   "metadata": {},
   "outputs": [
    {
     "name": "stdout",
     "output_type": "stream",
     "text": [
      "[('1', '2'), ('1', '3'), ('2', '3'), ('4', '4')] ['1', '2', '3', '4']\n"
     ]
    }
   ],
   "source": [
    "print(G.edges(), G.nodes())"
   ]
  },
  {
   "cell_type": "markdown",
   "metadata": {},
   "source": [
    "# Exibição do Grafo\n",
    "## Escolha o tipo do layout ('Aleatorio', 'Circular')"
   ]
  },
  {
   "cell_type": "code",
   "execution_count": 12,
   "metadata": {},
   "outputs": [
    {
     "name": "stdout",
     "output_type": "stream",
     "text": [
      "aleatorio\n"
     ]
    }
   ],
   "source": [
    "layout_type = str(input())\n",
    "layout_type.lower()\n",
    "\n",
    "# Variável que armazena a posição dos vértices baseado no layout\n",
    "if layout_type == 'aleatorio':\n",
    "    pos = nx.spring_layout(G, k=2)\n",
    "elif layout_type == 'circular':\n",
    "    pos = nx.circular_layout(G)"
   ]
  },
  {
   "cell_type": "code",
   "execution_count": 13,
   "metadata": {},
   "outputs": [
    {
     "data": {
      "image/png": "[encoded data removed]",
      "text/plain": [
       "<Figure size 1152x504 with 1 Axes>"
      ]
     },
     "metadata": {},
     "output_type": "display_data"
    }
   ],
   "source": [
    "# Utilizado para definir o tamanho da exibição\n",
    "fig = plt.figure(figsize=(16, 7))\n",
    "\n",
    "\n",
    "# Variável que armazena o peso das arestas\n",
    "labels = nx.get_edge_attributes(G,'weight')\n",
    "\n",
    "# Função que desenha os nós Grafo\n",
    "nx.draw_networkx_nodes(\n",
    "    G, \n",
    "    pos, \n",
    "    node_color='r'\n",
    ")\n",
    "\n",
    "# Função que exibe as labels dos nós do grafo\n",
    "nx.draw_networkx_labels(\n",
    "    G, \n",
    "    pos\n",
    ")\n",
    "\n",
    "# Função que exibe os pesos das arestas do grafo\n",
    "nx.draw_networkx_edge_labels(\n",
    "    G, \n",
    "    pos, \n",
    "    font_size=10, \n",
    "    edge_labels=labels\n",
    ")\n",
    "\n",
    "# Função que desenha as arestas do grafo\n",
    "nx.draw_networkx_edges(\n",
    "    G, \n",
    "    pos, \n",
    "    width=1,\n",
    "    length=7\n",
    ")\n",
    "\n",
    "plt.show()"
   ]
  },
  {
   "cell_type": "markdown",
   "metadata": {},
   "source": [
    "# Exibição do número de Vértices "
   ]
  },
  {
   "cell_type": "code",
   "execution_count": 14,
   "metadata": {},
   "outputs": [
    {
     "name": "stdout",
     "output_type": "stream",
     "text": [
      "Número de vertices:  4\n"
     ]
    }
   ],
   "source": [
    "# Função que retorna o número de vértices do Grafo\n",
    "numV = len(list(G.nodes()))\n",
    "print('Número de vertices: ',numV)"
   ]
  },
  {
   "cell_type": "markdown",
   "metadata": {},
   "source": [
    "# Exibição do número de Arestas"
   ]
  },
  {
   "cell_type": "code",
   "execution_count": 15,
   "metadata": {},
   "outputs": [
    {
     "name": "stdout",
     "output_type": "stream",
     "text": [
      "Número de arestas:  4\n"
     ]
    }
   ],
   "source": [
    "# Função que retorna o número de arestas do Grafo\n",
    "numA = len(list(G.edges()))\n",
    "print('Número de arestas: ',numA)"
   ]
  },
  {
   "cell_type": "markdown",
   "metadata": {},
   "source": [
    "# Exibição do número de Componentes"
   ]
  },
  {
   "cell_type": "code",
   "execution_count": 16,
   "metadata": {},
   "outputs": [
    {
     "name": "stdout",
     "output_type": "stream",
     "text": [
      "Número de componentes:  2\n"
     ]
    }
   ],
   "source": [
    "# Função que retorna o número de componentes do Grafo\n",
    "# G.to_undirected() transforma grafos para não dirigidos forçadamente\n",
    "numC = nx.number_connected_components(G.to_undirected())\n",
    "print('Número de componentes: ',numC)"
   ]
  },
  {
   "cell_type": "markdown",
   "metadata": {},
   "source": [
    "# Matriz de adjacência "
   ]
  },
  {
   "cell_type": "code",
   "execution_count": 17,
   "metadata": {},
   "outputs": [],
   "source": [
    "# Função que retorna a matriz de adjacência do Grafo\n",
    "matrix = nx.adjacency_matrix(G)"
   ]
  },
  {
   "cell_type": "code",
   "execution_count": 18,
   "metadata": {},
   "outputs": [
    {
     "name": "stdout",
     "output_type": "stream",
     "text": [
      "[[0. 1. 1. 0.]\n",
      " [0. 0. 1. 0.]\n",
      " [0. 0. 0. 0.]\n",
      " [0. 0. 0. 1.]]\n"
     ]
    }
   ],
   "source": [
    "# Representação da matriz de adjacência\n",
    "print(matrix.todense())"
   ]
  },
  {
   "cell_type": "markdown",
   "metadata": {},
   "source": [
    "# Pajek\n",
    "## Código para geração de arquivo apartir do grafo acima (pode ser lido pelo pajek) "
   ]
  },
  {
   "cell_type": "code",
   "execution_count": 19,
   "metadata": {},
   "outputs": [],
   "source": [
    "# Função para escrever o Grafo em Pajek .net informando o grafo e o nome do arquivo em que deseja gravar o grafo\n",
    "nx.write_pajek(G, \"Grafo.net\")"
   ]
  },
  {
   "cell_type": "markdown",
   "metadata": {},
   "source": [
    "# Caminho mínimo"
   ]
  },
  {
   "cell_type": "code",
   "execution_count": 20,
   "metadata": {
    "scrolled": true
   },
   "outputs": [
    {
     "name": "stdout",
     "output_type": "stream",
     "text": [
      "Insira o nó de onde deseja começar: \n",
      "1\n",
      "Insira o nó que deseja finalizar: \n",
      "2\n"
     ]
    }
   ],
   "source": [
    "# Input para informar o nó pai da busca\n",
    "print('Insira o nó de onde deseja começar: ')\n",
    "StartNode = input()\n",
    "\n",
    "# Input para informar o nó de chegada da busca\n",
    "print('Insira o nó que deseja finalizar: ')\n",
    "FinalNode = input()\n"
   ]
  },
  {
   "cell_type": "code",
   "execution_count": 21,
   "metadata": {},
   "outputs": [
    {
     "data": {
      "text/plain": [
       "OutEdgeView([('1', '2'), ('1', '3'), ('2', '3'), ('4', '4')])"
      ]
     },
     "execution_count": 21,
     "metadata": {},
     "output_type": "execute_result"
    }
   ],
   "source": [
    "G.edges()"
   ]
  },
  {
   "cell_type": "code",
   "execution_count": 22,
   "metadata": {},
   "outputs": [
    {
     "name": "stdout",
     "output_type": "stream",
     "text": [
      "['1', '2']\n"
     ]
    }
   ],
   "source": [
    "# Função que retorna uma lista de vértices do caminho\n",
    "sp = nx.shortest_path(G,source = StartNode,target = FinalNode)\n",
    "\n",
    "# Exibição do caminho mínimo\n",
    "print(sp)"
   ]
  },
  {
   "cell_type": "markdown",
   "metadata": {},
   "source": [
    "# Densidade de um grafo"
   ]
  },
  {
   "cell_type": "code",
   "execution_count": 23,
   "metadata": {},
   "outputs": [
    {
     "data": {
      "text/plain": [
       "0.3333333333333333"
      ]
     },
     "execution_count": 23,
     "metadata": {},
     "output_type": "execute_result"
    }
   ],
   "source": [
    "# Função que calcula a densidade de um grafo\n",
    "nx.density(G)"
   ]
  },
  {
   "cell_type": "markdown",
   "metadata": {},
   "source": [
    "# Cálculo do grau médio de um grafo (grau de entrada e saída)"
   ]
  },
  {
   "cell_type": "code",
   "execution_count": 24,
   "metadata": {},
   "outputs": [
    {
     "data": {
      "text/plain": [
       "{2: 1.0}"
      ]
     },
     "execution_count": 24,
     "metadata": {},
     "output_type": "execute_result"
    }
   ],
   "source": [
    "# Função que calcula o grau de entrada e saída do grafo\n",
    "nx.average_degree_connectivity(G)"
   ]
  },
  {
   "cell_type": "markdown",
   "metadata": {},
   "source": [
    "# Geração da lista de adjacência (Networkx):"
   ]
  },
  {
   "cell_type": "code",
   "execution_count": 73,
   "metadata": {},
   "outputs": [
    {
     "name": "stdout",
     "output_type": "stream",
     "text": [
      "1 2 3\n",
      "2 3\n",
      "3\n",
      "4 4\n"
     ]
    }
   ],
   "source": [
    "# Foreach para exibir a representação da matriz de adjacência\n",
    "for line in nx.generate_adjlist(G):\n",
    "    print(line)"
   ]
  },
  {
   "cell_type": "code",
   "execution_count": 54,
   "metadata": {},
   "outputs": [
    {
     "name": "stdout",
     "output_type": "stream",
     "text": [
      "['1', '2', '3']\n",
      "2\n",
      "3\n",
      "['2', '3']\n",
      "3\n",
      "['3']\n",
      "['4', '4']\n",
      "4\n"
     ]
    }
   ],
   "source": [
    "# Foreach para exibir a representação da matriz de adjacência\n",
    "for line in nx.generate_adjlist(G):\n",
    "    line_list = line.split()\n",
    "    print(line_list)\n",
    "    for i in range(1, len(line_list)):\n",
    "        print(line_list[i])"
   ]
  },
  {
   "cell_type": "markdown",
   "metadata": {},
   "source": [
    "# Geração da lista de adjacência (Fonte própria):"
   ]
  },
  {
   "cell_type": "code",
   "execution_count": 26,
   "metadata": {
    "scrolled": true
   },
   "outputs": [
    {
     "name": "stdout",
     "output_type": "stream",
     "text": [
      "[('1', '2'), ('1', '3'), ('2', '3'), ('4', '4')] ['1', '2', '3', '4']\n"
     ]
    }
   ],
   "source": [
    "print(G.edges(), G.nodes())"
   ]
  },
  {
   "cell_type": "markdown",
   "metadata": {},
   "source": [
    "### Função para digrafos:"
   ]
  },
  {
   "cell_type": "code",
   "execution_count": 55,
   "metadata": {},
   "outputs": [],
   "source": [
    "def make_adjlist_digraph(G):\n",
    "    adjlist = {}\n",
    "    nodelist = G.nodes()\n",
    "    \n",
    "    for line in nx.generate_adjlist(G):\n",
    "        connect_list = []\n",
    "        line_list = line.split()\n",
    "        \n",
    "        for i in range(1, len(line_list)):\n",
    "            connect_list.append(line_list[i])\n",
    "            \n",
    "        node = {line_list[0]:connect_list}\n",
    "        adjlist.update(node)\n",
    "    \n",
    "    return adjlist"
   ]
  },
  {
   "cell_type": "markdown",
   "metadata": {},
   "source": [
    "#### Resultado:"
   ]
  },
  {
   "cell_type": "code",
   "execution_count": 56,
   "metadata": {},
   "outputs": [
    {
     "data": {
      "text/plain": [
       "{'1': ['2', '3'], '2': ['3'], '3': [], '4': ['4']}"
      ]
     },
     "execution_count": 56,
     "metadata": {},
     "output_type": "execute_result"
    }
   ],
   "source": [
    "x = make_adjlist_digraph(G)\n",
    "x"
   ]
  },
  {
   "cell_type": "markdown",
   "metadata": {},
   "source": [
    "### Função para grafos simples:"
   ]
  },
  {
   "cell_type": "code",
   "execution_count": 57,
   "metadata": {},
   "outputs": [],
   "source": [
    "def make_adjlist_graph(G):\n",
    "    nodelist = G.nodes()\n",
    "    edgelist = G.edges()\n",
    "    adjlist = {}\n",
    "    \n",
    "    for node_index in nodelist:\n",
    "        connect_list = []\n",
    "        \n",
    "        for edges in edgelist:            \n",
    "            if node_index == edges[0]:\n",
    "                connect_list.append(edges[1])\n",
    "            if node_index == edges[1]:\n",
    "                connect_list.append(edges[0])\n",
    "                \n",
    "        node = {node_index:connect_list}\n",
    "        adjlist.update(node)\n",
    "\n",
    "    return adjlist"
   ]
  },
  {
   "cell_type": "markdown",
   "metadata": {},
   "source": [
    "#### Resultado:"
   ]
  },
  {
   "cell_type": "code",
   "execution_count": 58,
   "metadata": {},
   "outputs": [
    {
     "data": {
      "text/plain": [
       "{'1': ['2', '3'], '2': ['1', '3'], '3': ['1', '2'], '4': ['4', '4']}"
      ]
     },
     "execution_count": 58,
     "metadata": {},
     "output_type": "execute_result"
    }
   ],
   "source": [
    "x = make_adjlist(G)\n",
    "x"
   ]
  },
  {
   "cell_type": "markdown",
   "metadata": {},
   "source": [
    "### Função de generalizada:"
   ]
  },
  {
   "cell_type": "code",
   "execution_count": 71,
   "metadata": {},
   "outputs": [],
   "source": [
    "def make_adjlist(G):\n",
    "    adjlist = {}\n",
    "    if nx.is_directed(G):\n",
    "        adjlist = make_adjlist_digraph(G)\n",
    "    else:\n",
    "        adjlist = make_adjlist_graph(G)\n",
    "    \n",
    "    return adjlist"
   ]
  },
  {
   "cell_type": "markdown",
   "metadata": {},
   "source": [
    "#### Resultado:"
   ]
  },
  {
   "cell_type": "code",
   "execution_count": 72,
   "metadata": {},
   "outputs": [
    {
     "name": "stdout",
     "output_type": "stream",
     "text": [
      "{'1': ['2', '3'], '2': ['3'], '3': [], '4': ['4']}\n"
     ]
    }
   ],
   "source": [
    "lista_adjacencia = make_adjlist(G)\n",
    "print(lista_adjacencia)"
   ]
  },
  {
   "cell_type": "markdown",
   "metadata": {},
   "source": [
    "# Geração da lista de adjacência (Forma alternativa - Networkx):"
   ]
  },
  {
   "cell_type": "code",
   "execution_count": 47,
   "metadata": {},
   "outputs": [],
   "source": [
    "V = G.adjacency()"
   ]
  },
  {
   "cell_type": "code",
   "execution_count": 48,
   "metadata": {},
   "outputs": [
    {
     "name": "stdout",
     "output_type": "stream",
     "text": [
      "<dict_itemiterator object at 0x0000019353154630>\n"
     ]
    }
   ],
   "source": [
    "print(V)"
   ]
  },
  {
   "cell_type": "code",
   "execution_count": 49,
   "metadata": {},
   "outputs": [],
   "source": [
    "adjlist = []\n",
    "\n",
    "for line in V:\n",
    "    adjlist.append(line)"
   ]
  },
  {
   "cell_type": "markdown",
   "metadata": {},
   "source": [
    "#### Resultado:"
   ]
  },
  {
   "cell_type": "code",
   "execution_count": 50,
   "metadata": {},
   "outputs": [
    {
     "data": {
      "text/plain": [
       "[('1', {'2': {'weight': 1.0}, '3': {'weight': 1.0}}),\n",
       " ('2', {'3': {'weight': 1.0}}),\n",
       " ('3', {}),\n",
       " ('4', {'4': {'weight': 1.0}})]"
      ]
     },
     "execution_count": 50,
     "metadata": {},
     "output_type": "execute_result"
    }
   ],
   "source": [
    "adjlist"
   ]
  },
  {
   "cell_type": "markdown",
   "metadata": {},
   "source": [
    "# Função algorítmo de busca BFS (Breadth-first Search)"
   ]
  },
  {
   "cell_type": "code",
   "execution_count": 243,
   "metadata": {},
   "outputs": [],
   "source": [
    "def BFS(G, node, visited, queue, bfslist):\n",
    "    \n",
    "    visited.append(node)\n",
    "    queue.append(node)\n",
    "    TPGraph = nx.DiGraph()\n",
    "    TPGraph.add_node(node)\n",
    "    \n",
    "    while queue:\n",
    "        print(queue)\n",
    "        s = queue.pop(0)\n",
    "        bfslist.append(s)\n",
    "\n",
    "        for neighbour in G.neighbors(s):\n",
    "            if neighbour not in visited:\n",
    "                visited.append(neighbour)\n",
    "                queue.append(neighbour)\n",
    "                TPGraph.add_edge(s, neighbour)\n",
    "\n",
    "    return TPGraph"
   ]
  },
  {
   "cell_type": "code",
   "execution_count": 244,
   "metadata": {},
   "outputs": [],
   "source": [
    "visited = []\n",
    "queue = []\n",
    "bfslist = []\n",
    "comp = 0"
   ]
  },
  {
   "cell_type": "code",
   "execution_count": 245,
   "metadata": {},
   "outputs": [
    {
     "name": "stdout",
     "output_type": "stream",
     "text": [
      "['1']\n",
      "['2', '3']\n",
      "['3']\n"
     ]
    }
   ],
   "source": [
    "TPGraph = BFS(G, \"1\", visited, queue, bfslist)"
   ]
  },
  {
   "cell_type": "code",
   "execution_count": 246,
   "metadata": {
    "scrolled": true
   },
   "outputs": [
    {
     "data": {
      "text/plain": [
       "['1', '2', '3']"
      ]
     },
     "execution_count": 246,
     "metadata": {},
     "output_type": "execute_result"
    }
   ],
   "source": [
    "bfslist"
   ]
  },
  {
   "cell_type": "code",
   "execution_count": 247,
   "metadata": {},
   "outputs": [
    {
     "data": {
      "image/png": "[encoded data removed]",
      "text/plain": [
       "<Figure size 432x288 with 1 Axes>"
      ]
     },
     "metadata": {},
     "output_type": "display_data"
    }
   ],
   "source": [
    "posi = nx.spring_layout(TPGraph)\n",
    "\n",
    "nx.draw_networkx_nodes(TPGraph, posi)\n",
    "nx.draw_networkx_edges(TPGraph, posi)\n",
    "nx.draw_networkx_labels(TPGraph, posi)\n",
    "plt.show()"
   ]
  }
 ],
 "metadata": {
  "kernelspec": {
   "display_name": "Python 3",
   "language": "python",
   "name": "python3"
  },
  "language_info": {
   "codemirror_mode": {
    "name": "ipython",
    "version": 3
   },
   "file_extension": ".py",
   "mimetype": "text/x-python",
   "name": "python",
   "nbconvert_exporter": "python",
   "pygments_lexer": "ipython3",
   "version": "3.8.3"
  }
 },
 "nbformat": 4,
 "nbformat_minor": 4
}
